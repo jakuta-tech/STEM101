{
  "metadata": {
    "orig_nbformat": 4,
    "language_info": {
      "codemirror_mode": {
        "name": "python",
        "version": 3
      },
      "file_extension": ".py",
      "mimetype": "text/x-python",
      "name": "python",
      "nbconvert_exporter": "python",
      "pygments_lexer": "ipython3",
      "version": "3.8"
    },
    "kernelspec": {
      "name": "python",
      "display_name": "Pyolite",
      "language": "python"
    }
  },
  "nbformat_minor": 4,
  "nbformat": 4,
  "cells": [
    {
      "cell_type": "code",
      "source": "if 10 > 3:\n    print(\"Yes 10 is greater than 3\") # no error",
      "metadata": {
        "tags": [],
        "trusted": true
      },
      "execution_count": null,
      "outputs": []
    },
    {
      "cell_type": "code",
      "source": "if 10 > 3:\nprint(\"Yes 10 is greater than 3\")  # causes an error",
      "metadata": {
        "tags": [],
        "trusted": true
      },
      "execution_count": null,
      "outputs": []
    },
    {
      "cell_type": "code",
      "source": "if 10 > 3:\n    print(\"Yes 10 is greater than 3\")  # sane indents for the code\n    print(\"This is fun\")",
      "metadata": {
        "tags": [],
        "trusted": true
      },
      "execution_count": null,
      "outputs": []
    },
    {
      "cell_type": "code",
      "source": "if 10 > 3:\n    print(\"Yes 10 is greater than 3\")  # different indents for the code causes errors\n        print(\"This won't work\")       # These should be in the same indent. Try it",
      "metadata": {
        "trusted": true
      },
      "execution_count": null,
      "outputs": []
    },
    {
      "cell_type": "markdown",
      "source": "## Practice yourself ##\nType similar commands in the cells below to practice indents.\nDo you notice that when you put the colon symbol at the end of the first line, \nPython will automatically indent the next line for you.",
      "metadata": {}
    },
    {
      "cell_type": "code",
      "source": "",
      "metadata": {},
      "execution_count": null,
      "outputs": []
    },
    {
      "cell_type": "code",
      "source": "",
      "metadata": {},
      "execution_count": null,
      "outputs": []
    },
    {
      "cell_type": "code",
      "source": "",
      "metadata": {},
      "execution_count": null,
      "outputs": []
    },
    {
      "cell_type": "code",
      "source": "",
      "metadata": {},
      "execution_count": null,
      "outputs": []
    },
    {
      "cell_type": "markdown",
      "source": "## More examples ##",
      "metadata": {}
    },
    {
      "cell_type": "code",
      "source": "for i in range(1,20):\n    print(i)\n    if i == 7:\n        print(\"We are stopping now!\")\n        break\n    print(\"Why does this print?\")\nprint(\"We have finished the loop\")",
      "metadata": {
        "trusted": true
      },
      "execution_count": null,
      "outputs": []
    },
    {
      "cell_type": "code",
      "source": "",
      "metadata": {},
      "execution_count": null,
      "outputs": []
    }
  ]
}