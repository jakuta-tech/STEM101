{
  "metadata": {
    "orig_nbformat": 4,
    "language_info": {
      "codemirror_mode": {
        "name": "python",
        "version": 3
      },
      "file_extension": ".py",
      "mimetype": "text/x-python",
      "name": "python",
      "nbconvert_exporter": "python",
      "pygments_lexer": "ipython3",
      "version": "3.8"
    },
    "kernelspec": {
      "name": "python",
      "display_name": "Pyolite",
      "language": "python"
    }
  },
  "nbformat_minor": 4,
  "nbformat": 4,
  "cells": [
    {
      "cell_type": "markdown",
      "source": "## Python is one of the most powerful languages when it comes to manipulating numerical data.\n\nIt is equipped with support for several types of numbers, along with utilities for performing computations on them.\n\nThere are three main types of numbers in Python:\n",
      "metadata": {}
    },
    {
      "cell_type": "code",
      "source": "print(10)  # A positive integer\nprint(-3000)  # A negative integer\n\nnum = 123456789  # Assigning an integer to a variable\nprint(num)\nnum = -16000  # Assigning a new integer\nprint(num)",
      "metadata": {
        "trusted": true
      },
      "execution_count": 1,
      "outputs": [
        {
          "name": "stdout",
          "text": "10\n-3000\n123456789\n-16000\n",
          "output_type": "stream"
        }
      ]
    },
    {
      "cell_type": "markdown",
      "source": "## Floating Point Numbers\n\nFloating-point numbers, or floats, refer to positive and negative decimal numbers.\n\nPython allows us to create decimals up to a very high decimal place.\n\nThis ensures accurate computations for precise values.\n\nA float occupies 24 bytes of memory.\n\nBelow, we can find some examples of floats:\n",
      "metadata": {}
    },
    {
      "cell_type": "code",
      "source": "print(1.00000000005)  # A positive float\nprint(-85.6701)  # A negative float\n\nflt_pt = 1.23456789\nprint(flt_pt)\n",
      "metadata": {
        "trusted": true
      },
      "execution_count": 2,
      "outputs": [
        {
          "name": "stdout",
          "text": "1.00000000005\n-85.6701\n1.23456789\n",
          "output_type": "stream"
        }
      ]
    },
    {
      "cell_type": "markdown",
      "source": "## Complex Numbers\n\nPython also supports complex numbers, or numbers made up of a real and an imaginary part.\n\nJust like the print() statement is used to print values, complex() is used to create complex numbers.\n\nIt requires two values. The first one will be the real part of the complex number, while the second value will be the imaginary part.\n\nHere’s the template for making a complex number:\n\ncomplex(real, imaginary)",
      "metadata": {}
    },
    {
      "cell_type": "code",
      "source": "print(complex(10, 20))  # Represents the complex number (10 + 20j)\nprint(complex(2.5, -18.2))  # Represents the complex number (2.5 - 18.2j)\n\ncomplex_1 = complex(0, 2)\ncomplex_2 = complex(2, 0)\nprint(complex_1)\nprint(complex_2)\n",
      "metadata": {
        "trusted": true
      },
      "execution_count": 3,
      "outputs": [
        {
          "name": "stdout",
          "text": "(10+20j)\n(2.5-18.2j)\n2j\n(2+0j)\n",
          "output_type": "stream"
        }
      ]
    },
    {
      "cell_type": "code",
      "source": "my_string = \"This is MY string!\"\nprint(my_string[0:4]) # From the start till before the 4th index\nprint(my_string[1:7])\nprint(my_string[8:len(my_string)]) # From the 8th index till the end\n",
      "metadata": {
        "trusted": true
      },
      "execution_count": 4,
      "outputs": [
        {
          "name": "stdout",
          "text": "This\nhis is\nMY string!\n",
          "output_type": "stream"
        }
      ]
    },
    {
      "cell_type": "code",
      "source": "import pandas as pd\nfrom js import fetch\n\nURL = \"https://support.staffbase.com/hc/en-us/article_attachments/360009197031/username.csv\"\n\nres = await fetch(URL)\ntext = await res.text()\n\nfilename = 'data.csv'\n\nwith open(filename, 'w') as f:\n    f.write(text)\n\ndata = pd.read_csv(filename, sep=';')\ndata",
      "metadata": {
        "trusted": true
      },
      "execution_count": 5,
      "outputs": [
        {
          "name": "stderr",
          "text": "/lib/python3.9/site-packages/pandas/compat/__init__.py:117: UserWarning: Could not import the lzma module. Your installed Python is incomplete. Attempting to use lzma compression will result in a RuntimeError.\n  warnings.warn(msg)\n",
          "output_type": "stream"
        },
        {
          "execution_count": 5,
          "output_type": "execute_result",
          "data": {
            "text/plain": "    Username   Identifier First name Last name\n0   booker12         9012     Rachel    Booker\n1     grey07         2070      Laura      Grey\n2  johnson81         4081      Craig   Johnson\n3  jenkins46         9346       Mary   Jenkins\n4    smith79         5079      Jamie     Smith",
            "text/html": "<div>\n<style scoped>\n    .dataframe tbody tr th:only-of-type {\n        vertical-align: middle;\n    }\n\n    .dataframe tbody tr th {\n        vertical-align: top;\n    }\n\n    .dataframe thead th {\n        text-align: right;\n    }\n</style>\n<table border=\"1\" class=\"dataframe\">\n  <thead>\n    <tr style=\"text-align: right;\">\n      <th></th>\n      <th>Username</th>\n      <th>Identifier</th>\n      <th>First name</th>\n      <th>Last name</th>\n    </tr>\n  </thead>\n  <tbody>\n    <tr>\n      <th>0</th>\n      <td>booker12</td>\n      <td>9012</td>\n      <td>Rachel</td>\n      <td>Booker</td>\n    </tr>\n    <tr>\n      <th>1</th>\n      <td>grey07</td>\n      <td>2070</td>\n      <td>Laura</td>\n      <td>Grey</td>\n    </tr>\n    <tr>\n      <th>2</th>\n      <td>johnson81</td>\n      <td>4081</td>\n      <td>Craig</td>\n      <td>Johnson</td>\n    </tr>\n    <tr>\n      <th>3</th>\n      <td>jenkins46</td>\n      <td>9346</td>\n      <td>Mary</td>\n      <td>Jenkins</td>\n    </tr>\n    <tr>\n      <th>4</th>\n      <td>smith79</td>\n      <td>5079</td>\n      <td>Jamie</td>\n      <td>Smith</td>\n    </tr>\n  </tbody>\n</table>\n</div>"
          },
          "metadata": {}
        }
      ]
    },
    {
      "cell_type": "code",
      "source": "# https://github.com/jupyterlite/jupyterlite/issues/119\n\nimport micropip\n\npackage_url = \"https://raw.githubusercontent.com/innovationOUtside/ouseful_jupyterlite_utils/main/ouseful_jupyterlite_utils-0.0.1-py3-none-any.whl\"\n\nawait micropip.install(package_url)\n\nfrom ouseful_jupyterlite_utils import pandas_utils as pdu\n\n# Load CSV from URL\n# Via @jtpio\nURL = \"https://support.staffbase.com/hc/en-us/article_attachments/360009197031/username.csv\"\ndf = await pdu.read_csv_url(URL, \"\\t\")\n\n# Load CSV from local browser storage\n# Via @bollwyvl\ndf = await pdu.read_csv_local(\"iris.csv\", \"\\t\")\ndf",
      "metadata": {
        "trusted": true
      },
      "execution_count": 6,
      "outputs": [
        {
          "execution_count": 6,
          "output_type": "execute_result",
          "data": {
            "text/plain": "    sepal_length,sepal_width,petal_length,petal_width,species\n0                                   5.1,3.5,1.4,0.2,se       \n1                                 4.9,3,1.4,0.2,setosa       \n2                               4.7,3.2,1.3,0.2,setosa       \n3                               4.6,3.1,1.5,0.2,setosa       \n4                                 5,3.6,1.4,0.2,setosa       \n..                                                 ...       \n145                            6.7,3,5.2,2.3,virginica       \n146                            6.3,2.5,5,1.9,virginica       \n147                              6.5,3,5.2,2,virginica       \n148                          6.2,3.4,5.4,2.3,virginica       \n149                            5.9,3,5.1,1.8,virginica       \n\n[150 rows x 1 columns]",
            "text/html": "<div>\n<style scoped>\n    .dataframe tbody tr th:only-of-type {\n        vertical-align: middle;\n    }\n\n    .dataframe tbody tr th {\n        vertical-align: top;\n    }\n\n    .dataframe thead th {\n        text-align: right;\n    }\n</style>\n<table border=\"1\" class=\"dataframe\">\n  <thead>\n    <tr style=\"text-align: right;\">\n      <th></th>\n      <th>sepal_length,sepal_width,petal_length,petal_width,species</th>\n    </tr>\n  </thead>\n  <tbody>\n    <tr>\n      <th>0</th>\n      <td>5.1,3.5,1.4,0.2,se</td>\n    </tr>\n    <tr>\n      <th>1</th>\n      <td>4.9,3,1.4,0.2,setosa</td>\n    </tr>\n    <tr>\n      <th>2</th>\n      <td>4.7,3.2,1.3,0.2,setosa</td>\n    </tr>\n    <tr>\n      <th>3</th>\n      <td>4.6,3.1,1.5,0.2,setosa</td>\n    </tr>\n    <tr>\n      <th>4</th>\n      <td>5,3.6,1.4,0.2,setosa</td>\n    </tr>\n    <tr>\n      <th>...</th>\n      <td>...</td>\n    </tr>\n    <tr>\n      <th>145</th>\n      <td>6.7,3,5.2,2.3,virginica</td>\n    </tr>\n    <tr>\n      <th>146</th>\n      <td>6.3,2.5,5,1.9,virginica</td>\n    </tr>\n    <tr>\n      <th>147</th>\n      <td>6.5,3,5.2,2,virginica</td>\n    </tr>\n    <tr>\n      <th>148</th>\n      <td>6.2,3.4,5.4,2.3,virginica</td>\n    </tr>\n    <tr>\n      <th>149</th>\n      <td>5.9,3,5.1,1.8,virginica</td>\n    </tr>\n  </tbody>\n</table>\n<p>150 rows × 1 columns</p>\n</div>"
          },
          "metadata": {}
        }
      ]
    },
    {
      "cell_type": "code",
      "source": "import micropip\nawait micropip.install('pandas')",
      "metadata": {
        "trusted": true
      },
      "execution_count": 7,
      "outputs": []
    },
    {
      "cell_type": "code",
      "source": "data = pd.read_csv('data/iris.csv')",
      "metadata": {
        "trusted": true
      },
      "execution_count": 8,
      "outputs": [
        {
          "ename": "<class 'FileNotFoundError'>",
          "evalue": "[Errno 44] File data/iris.csv does not exist: 'data/iris.csv'",
          "traceback": [
            "\u001b[0;31m---------------------------------------------------------------------------\u001b[0m",
            "\u001b[0;31mFileNotFoundError\u001b[0m                         Traceback (most recent call last)",
            "\u001b[0;32m<ipython-input-8-b08c07bde65e>\u001b[0m in \u001b[0;36m<module>\u001b[0;34m\u001b[0m\n\u001b[0;32m----> 1\u001b[0;31m \u001b[0mdata\u001b[0m \u001b[0;34m=\u001b[0m \u001b[0mpd\u001b[0m\u001b[0;34m.\u001b[0m\u001b[0mread_csv\u001b[0m\u001b[0;34m(\u001b[0m\u001b[0;34m'data/iris.csv'\u001b[0m\u001b[0;34m)\u001b[0m\u001b[0;34m\u001b[0m\u001b[0;34m\u001b[0m\u001b[0m\n\u001b[0m",
            "\u001b[0;32m/lib/python3.9/site-packages/pandas/io/parsers.py\u001b[0m in \u001b[0;36mparser_f\u001b[0;34m(filepath_or_buffer, sep, delimiter, header, names, index_col, usecols, squeeze, prefix, mangle_dupe_cols, dtype, engine, converters, true_values, false_values, skipinitialspace, skiprows, skipfooter, nrows, na_values, keep_default_na, na_filter, verbose, skip_blank_lines, parse_dates, infer_datetime_format, keep_date_col, date_parser, dayfirst, cache_dates, iterator, chunksize, compression, thousands, decimal, lineterminator, quotechar, quoting, doublequote, escapechar, comment, encoding, dialect, error_bad_lines, warn_bad_lines, delim_whitespace, low_memory, memory_map, float_precision)\u001b[0m\n\u001b[1;32m    674\u001b[0m         )\n\u001b[1;32m    675\u001b[0m \u001b[0;34m\u001b[0m\u001b[0m\n\u001b[0;32m--> 676\u001b[0;31m         \u001b[0;32mreturn\u001b[0m \u001b[0m_read\u001b[0m\u001b[0;34m(\u001b[0m\u001b[0mfilepath_or_buffer\u001b[0m\u001b[0;34m,\u001b[0m \u001b[0mkwds\u001b[0m\u001b[0;34m)\u001b[0m\u001b[0;34m\u001b[0m\u001b[0;34m\u001b[0m\u001b[0m\n\u001b[0m\u001b[1;32m    677\u001b[0m \u001b[0;34m\u001b[0m\u001b[0m\n\u001b[1;32m    678\u001b[0m     \u001b[0mparser_f\u001b[0m\u001b[0;34m.\u001b[0m\u001b[0m__name__\u001b[0m \u001b[0;34m=\u001b[0m \u001b[0mname\u001b[0m\u001b[0;34m\u001b[0m\u001b[0;34m\u001b[0m\u001b[0m\n",
            "\u001b[0;32m/lib/python3.9/site-packages/pandas/io/parsers.py\u001b[0m in \u001b[0;36m_read\u001b[0;34m(filepath_or_buffer, kwds)\u001b[0m\n\u001b[1;32m    446\u001b[0m \u001b[0;34m\u001b[0m\u001b[0m\n\u001b[1;32m    447\u001b[0m     \u001b[0;31m# Create the parser.\u001b[0m\u001b[0;34m\u001b[0m\u001b[0;34m\u001b[0m\u001b[0;34m\u001b[0m\u001b[0m\n\u001b[0;32m--> 448\u001b[0;31m     \u001b[0mparser\u001b[0m \u001b[0;34m=\u001b[0m \u001b[0mTextFileReader\u001b[0m\u001b[0;34m(\u001b[0m\u001b[0mfp_or_buf\u001b[0m\u001b[0;34m,\u001b[0m \u001b[0;34m**\u001b[0m\u001b[0mkwds\u001b[0m\u001b[0;34m)\u001b[0m\u001b[0;34m\u001b[0m\u001b[0;34m\u001b[0m\u001b[0m\n\u001b[0m\u001b[1;32m    449\u001b[0m \u001b[0;34m\u001b[0m\u001b[0m\n\u001b[1;32m    450\u001b[0m     \u001b[0;32mif\u001b[0m \u001b[0mchunksize\u001b[0m \u001b[0;32mor\u001b[0m \u001b[0miterator\u001b[0m\u001b[0;34m:\u001b[0m\u001b[0;34m\u001b[0m\u001b[0;34m\u001b[0m\u001b[0m\n",
            "\u001b[0;32m/lib/python3.9/site-packages/pandas/io/parsers.py\u001b[0m in \u001b[0;36m__init__\u001b[0;34m(self, f, engine, **kwds)\u001b[0m\n\u001b[1;32m    878\u001b[0m             \u001b[0mself\u001b[0m\u001b[0;34m.\u001b[0m\u001b[0moptions\u001b[0m\u001b[0;34m[\u001b[0m\u001b[0;34m\"has_index_names\"\u001b[0m\u001b[0;34m]\u001b[0m \u001b[0;34m=\u001b[0m \u001b[0mkwds\u001b[0m\u001b[0;34m[\u001b[0m\u001b[0;34m\"has_index_names\"\u001b[0m\u001b[0;34m]\u001b[0m\u001b[0;34m\u001b[0m\u001b[0;34m\u001b[0m\u001b[0m\n\u001b[1;32m    879\u001b[0m \u001b[0;34m\u001b[0m\u001b[0m\n\u001b[0;32m--> 880\u001b[0;31m         \u001b[0mself\u001b[0m\u001b[0;34m.\u001b[0m\u001b[0m_make_engine\u001b[0m\u001b[0;34m(\u001b[0m\u001b[0mself\u001b[0m\u001b[0;34m.\u001b[0m\u001b[0mengine\u001b[0m\u001b[0;34m)\u001b[0m\u001b[0;34m\u001b[0m\u001b[0;34m\u001b[0m\u001b[0m\n\u001b[0m\u001b[1;32m    881\u001b[0m \u001b[0;34m\u001b[0m\u001b[0m\n\u001b[1;32m    882\u001b[0m     \u001b[0;32mdef\u001b[0m \u001b[0mclose\u001b[0m\u001b[0;34m(\u001b[0m\u001b[0mself\u001b[0m\u001b[0;34m)\u001b[0m\u001b[0;34m:\u001b[0m\u001b[0;34m\u001b[0m\u001b[0;34m\u001b[0m\u001b[0m\n",
            "\u001b[0;32m/lib/python3.9/site-packages/pandas/io/parsers.py\u001b[0m in \u001b[0;36m_make_engine\u001b[0;34m(self, engine)\u001b[0m\n\u001b[1;32m   1112\u001b[0m     \u001b[0;32mdef\u001b[0m \u001b[0m_make_engine\u001b[0m\u001b[0;34m(\u001b[0m\u001b[0mself\u001b[0m\u001b[0;34m,\u001b[0m \u001b[0mengine\u001b[0m\u001b[0;34m=\u001b[0m\u001b[0;34m\"c\"\u001b[0m\u001b[0;34m)\u001b[0m\u001b[0;34m:\u001b[0m\u001b[0;34m\u001b[0m\u001b[0;34m\u001b[0m\u001b[0m\n\u001b[1;32m   1113\u001b[0m         \u001b[0;32mif\u001b[0m \u001b[0mengine\u001b[0m \u001b[0;34m==\u001b[0m \u001b[0;34m\"c\"\u001b[0m\u001b[0;34m:\u001b[0m\u001b[0;34m\u001b[0m\u001b[0;34m\u001b[0m\u001b[0m\n\u001b[0;32m-> 1114\u001b[0;31m             \u001b[0mself\u001b[0m\u001b[0;34m.\u001b[0m\u001b[0m_engine\u001b[0m \u001b[0;34m=\u001b[0m \u001b[0mCParserWrapper\u001b[0m\u001b[0;34m(\u001b[0m\u001b[0mself\u001b[0m\u001b[0;34m.\u001b[0m\u001b[0mf\u001b[0m\u001b[0;34m,\u001b[0m \u001b[0;34m**\u001b[0m\u001b[0mself\u001b[0m\u001b[0;34m.\u001b[0m\u001b[0moptions\u001b[0m\u001b[0;34m)\u001b[0m\u001b[0;34m\u001b[0m\u001b[0;34m\u001b[0m\u001b[0m\n\u001b[0m\u001b[1;32m   1115\u001b[0m         \u001b[0;32melse\u001b[0m\u001b[0;34m:\u001b[0m\u001b[0;34m\u001b[0m\u001b[0;34m\u001b[0m\u001b[0m\n\u001b[1;32m   1116\u001b[0m             \u001b[0;32mif\u001b[0m \u001b[0mengine\u001b[0m \u001b[0;34m==\u001b[0m \u001b[0;34m\"python\"\u001b[0m\u001b[0;34m:\u001b[0m\u001b[0;34m\u001b[0m\u001b[0;34m\u001b[0m\u001b[0m\n",
            "\u001b[0;32m/lib/python3.9/site-packages/pandas/io/parsers.py\u001b[0m in \u001b[0;36m__init__\u001b[0;34m(self, src, **kwds)\u001b[0m\n\u001b[1;32m   1889\u001b[0m         \u001b[0mkwds\u001b[0m\u001b[0;34m[\u001b[0m\u001b[0;34m\"usecols\"\u001b[0m\u001b[0;34m]\u001b[0m \u001b[0;34m=\u001b[0m \u001b[0mself\u001b[0m\u001b[0;34m.\u001b[0m\u001b[0musecols\u001b[0m\u001b[0;34m\u001b[0m\u001b[0;34m\u001b[0m\u001b[0m\n\u001b[1;32m   1890\u001b[0m \u001b[0;34m\u001b[0m\u001b[0m\n\u001b[0;32m-> 1891\u001b[0;31m         \u001b[0mself\u001b[0m\u001b[0;34m.\u001b[0m\u001b[0m_reader\u001b[0m \u001b[0;34m=\u001b[0m \u001b[0mparsers\u001b[0m\u001b[0;34m.\u001b[0m\u001b[0mTextReader\u001b[0m\u001b[0;34m(\u001b[0m\u001b[0msrc\u001b[0m\u001b[0;34m,\u001b[0m \u001b[0;34m**\u001b[0m\u001b[0mkwds\u001b[0m\u001b[0;34m)\u001b[0m\u001b[0;34m\u001b[0m\u001b[0;34m\u001b[0m\u001b[0m\n\u001b[0m\u001b[1;32m   1892\u001b[0m         \u001b[0mself\u001b[0m\u001b[0;34m.\u001b[0m\u001b[0munnamed_cols\u001b[0m \u001b[0;34m=\u001b[0m \u001b[0mself\u001b[0m\u001b[0;34m.\u001b[0m\u001b[0m_reader\u001b[0m\u001b[0;34m.\u001b[0m\u001b[0munnamed_cols\u001b[0m\u001b[0;34m\u001b[0m\u001b[0;34m\u001b[0m\u001b[0m\n\u001b[1;32m   1893\u001b[0m \u001b[0;34m\u001b[0m\u001b[0m\n",
            "\u001b[0;32mpandas/_libs/parsers.pyx\u001b[0m in \u001b[0;36mpandas._libs.parsers.TextReader.__cinit__\u001b[0;34m()\u001b[0m\n",
            "\u001b[0;32mpandas/_libs/parsers.pyx\u001b[0m in \u001b[0;36mpandas._libs.parsers.TextReader._setup_parser_source\u001b[0;34m()\u001b[0m\n",
            "\u001b[0;31mFileNotFoundError\u001b[0m: [Errno 44] File data/iris.csv does not exist: 'data/iris.csv'"
          ],
          "output_type": "error"
        }
      ]
    },
    {
      "cell_type": "code",
      "source": "df = await pdu.read_csv_local(\"iris.csv\", \"\\t\")\ndf",
      "metadata": {
        "trusted": true
      },
      "execution_count": 9,
      "outputs": [
        {
          "execution_count": 9,
          "output_type": "execute_result",
          "data": {
            "text/plain": "    sepal_length,sepal_width,petal_length,petal_width,species\n0                                   5.1,3.5,1.4,0.2,se       \n1                                 4.9,3,1.4,0.2,setosa       \n2                               4.7,3.2,1.3,0.2,setosa       \n3                               4.6,3.1,1.5,0.2,setosa       \n4                                 5,3.6,1.4,0.2,setosa       \n..                                                 ...       \n145                            6.7,3,5.2,2.3,virginica       \n146                            6.3,2.5,5,1.9,virginica       \n147                              6.5,3,5.2,2,virginica       \n148                          6.2,3.4,5.4,2.3,virginica       \n149                            5.9,3,5.1,1.8,virginica       \n\n[150 rows x 1 columns]",
            "text/html": "<div>\n<style scoped>\n    .dataframe tbody tr th:only-of-type {\n        vertical-align: middle;\n    }\n\n    .dataframe tbody tr th {\n        vertical-align: top;\n    }\n\n    .dataframe thead th {\n        text-align: right;\n    }\n</style>\n<table border=\"1\" class=\"dataframe\">\n  <thead>\n    <tr style=\"text-align: right;\">\n      <th></th>\n      <th>sepal_length,sepal_width,petal_length,petal_width,species</th>\n    </tr>\n  </thead>\n  <tbody>\n    <tr>\n      <th>0</th>\n      <td>5.1,3.5,1.4,0.2,se</td>\n    </tr>\n    <tr>\n      <th>1</th>\n      <td>4.9,3,1.4,0.2,setosa</td>\n    </tr>\n    <tr>\n      <th>2</th>\n      <td>4.7,3.2,1.3,0.2,setosa</td>\n    </tr>\n    <tr>\n      <th>3</th>\n      <td>4.6,3.1,1.5,0.2,setosa</td>\n    </tr>\n    <tr>\n      <th>4</th>\n      <td>5,3.6,1.4,0.2,setosa</td>\n    </tr>\n    <tr>\n      <th>...</th>\n      <td>...</td>\n    </tr>\n    <tr>\n      <th>145</th>\n      <td>6.7,3,5.2,2.3,virginica</td>\n    </tr>\n    <tr>\n      <th>146</th>\n      <td>6.3,2.5,5,1.9,virginica</td>\n    </tr>\n    <tr>\n      <th>147</th>\n      <td>6.5,3,5.2,2,virginica</td>\n    </tr>\n    <tr>\n      <th>148</th>\n      <td>6.2,3.4,5.4,2.3,virginica</td>\n    </tr>\n    <tr>\n      <th>149</th>\n      <td>5.9,3,5.1,1.8,virginica</td>\n    </tr>\n  </tbody>\n</table>\n<p>150 rows × 1 columns</p>\n</div>"
          },
          "metadata": {}
        }
      ]
    },
    {
      "cell_type": "code",
      "source": "import pandas, pyodide\npandas.read_csv(pyodide.open_url(\n  \"https://data.gov.au/data/dataset/21c36ca7-582d-42e3-8ade-4c38ddac41c8/resource/d7302233-588f-49fd-9443-a34a13d79dcb/download/caravan_parking.csv\")\n)",
      "metadata": {
        "trusted": true
      },
      "execution_count": 11,
      "outputs": [
        {
          "execution_count": 11,
          "output_type": "execute_result",
          "data": {
            "text/plain": "           street         lon        lat\n0    Nixon Street  145.399537 -36.376947\n1  Marungi Street  145.397609 -36.378372\n2  Wyndham Street  145.398664 -36.383806\n3     Rowe Street  145.403481 -36.382790\n4    North Street  145.405759 -36.382530",
            "text/html": "<div>\n<style scoped>\n    .dataframe tbody tr th:only-of-type {\n        vertical-align: middle;\n    }\n\n    .dataframe tbody tr th {\n        vertical-align: top;\n    }\n\n    .dataframe thead th {\n        text-align: right;\n    }\n</style>\n<table border=\"1\" class=\"dataframe\">\n  <thead>\n    <tr style=\"text-align: right;\">\n      <th></th>\n      <th>street</th>\n      <th>lon</th>\n      <th>lat</th>\n    </tr>\n  </thead>\n  <tbody>\n    <tr>\n      <th>0</th>\n      <td>Nixon Street</td>\n      <td>145.399537</td>\n      <td>-36.376947</td>\n    </tr>\n    <tr>\n      <th>1</th>\n      <td>Marungi Street</td>\n      <td>145.397609</td>\n      <td>-36.378372</td>\n    </tr>\n    <tr>\n      <th>2</th>\n      <td>Wyndham Street</td>\n      <td>145.398664</td>\n      <td>-36.383806</td>\n    </tr>\n    <tr>\n      <th>3</th>\n      <td>Rowe Street</td>\n      <td>145.403481</td>\n      <td>-36.382790</td>\n    </tr>\n    <tr>\n      <th>4</th>\n      <td>North Street</td>\n      <td>145.405759</td>\n      <td>-36.382530</td>\n    </tr>\n  </tbody>\n</table>\n</div>"
          },
          "metadata": {}
        }
      ]
    },
    {
      "cell_type": "code",
      "source": "import pandas as pd \nimport pyodide as py\ndf = pd.read_csv(py.open_url(\"https://data.gov.au/data/dataset/21c36ca7-582d-42e3-8ade-4c38ddac41c8/resource/d7302233-588f-49fd-9443-a34a13d79dcb/download/caravan_parking.csv\"))",
      "metadata": {
        "trusted": true
      },
      "execution_count": 12,
      "outputs": []
    },
    {
      "cell_type": "code",
      "source": "df",
      "metadata": {
        "trusted": true
      },
      "execution_count": 13,
      "outputs": [
        {
          "execution_count": 13,
          "output_type": "execute_result",
          "data": {
            "text/plain": "           street         lon        lat\n0    Nixon Street  145.399537 -36.376947\n1  Marungi Street  145.397609 -36.378372\n2  Wyndham Street  145.398664 -36.383806\n3     Rowe Street  145.403481 -36.382790\n4    North Street  145.405759 -36.382530",
            "text/html": "<div>\n<style scoped>\n    .dataframe tbody tr th:only-of-type {\n        vertical-align: middle;\n    }\n\n    .dataframe tbody tr th {\n        vertical-align: top;\n    }\n\n    .dataframe thead th {\n        text-align: right;\n    }\n</style>\n<table border=\"1\" class=\"dataframe\">\n  <thead>\n    <tr style=\"text-align: right;\">\n      <th></th>\n      <th>street</th>\n      <th>lon</th>\n      <th>lat</th>\n    </tr>\n  </thead>\n  <tbody>\n    <tr>\n      <th>0</th>\n      <td>Nixon Street</td>\n      <td>145.399537</td>\n      <td>-36.376947</td>\n    </tr>\n    <tr>\n      <th>1</th>\n      <td>Marungi Street</td>\n      <td>145.397609</td>\n      <td>-36.378372</td>\n    </tr>\n    <tr>\n      <th>2</th>\n      <td>Wyndham Street</td>\n      <td>145.398664</td>\n      <td>-36.383806</td>\n    </tr>\n    <tr>\n      <th>3</th>\n      <td>Rowe Street</td>\n      <td>145.403481</td>\n      <td>-36.382790</td>\n    </tr>\n    <tr>\n      <th>4</th>\n      <td>North Street</td>\n      <td>145.405759</td>\n      <td>-36.382530</td>\n    </tr>\n  </tbody>\n</table>\n</div>"
          },
          "metadata": {}
        }
      ]
    },
    {
      "cell_type": "code",
      "source": "# this is the first comment\nspam = 1  # and this is the second comment\n          # ... and now a third!\ntext = \"# This is not a comment because it's inside quotes.\"",
      "metadata": {
        "trusted": true
      },
      "execution_count": 14,
      "outputs": []
    },
    {
      "cell_type": "code",
      "source": "text = ('Put several strings within parentheses '\n        'to have them joined together.')\ntext",
      "metadata": {
        "trusted": true
      },
      "execution_count": 15,
      "outputs": [
        {
          "execution_count": 15,
          "output_type": "execute_result",
          "data": {
            "text/plain": "'Put several strings within parentheses to have them joined together.'"
          },
          "metadata": {}
        }
      ]
    },
    {
      "cell_type": "code",
      "source": "",
      "metadata": {},
      "execution_count": null,
      "outputs": []
    }
  ]
}