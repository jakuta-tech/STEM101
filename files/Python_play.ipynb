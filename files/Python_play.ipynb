{
  "metadata": {
    "orig_nbformat": 4,
    "language_info": {
      "codemirror_mode": {
        "name": "python",
        "version": 3
      },
      "file_extension": ".py",
      "mimetype": "text/x-python",
      "name": "python",
      "nbconvert_exporter": "python",
      "pygments_lexer": "ipython3",
      "version": "3.8"
    },
    "kernelspec": {
      "name": "python",
      "display_name": "Pyolite",
      "language": "python"
    }
  },
  "nbformat_minor": 4,
  "nbformat": 4,
  "cells": [
    {
      "cell_type": "markdown",
      "source": "## Python is one of the most powerful languages when it comes to manipulating numerical data.\n\nIt is equipped with support for several types of numbers, along with utilities for performing computations on them.\n\nThere are three main types of numbers in Python:\n",
      "metadata": {}
    },
    {
      "cell_type": "code",
      "source": "print(10)  # A positive integer\nprint(-3000)  # A negative integer\n\nnum = 123456789  # Assigning an integer to a variable\nprint(num)\nnum = -16000  # Assigning a new integer\nprint(num)",
      "metadata": {
        "trusted": true
      },
      "execution_count": 1,
      "outputs": [
        {
          "name": "stdout",
          "text": "10\n-3000\n123456789\n-16000\n",
          "output_type": "stream"
        }
      ]
    },
    {
      "cell_type": "markdown",
      "source": "## Floating Point Numbers\n\nFloating-point numbers, or floats, refer to positive and negative decimal numbers.\n\nPython allows us to create decimals up to a very high decimal place.\n\nThis ensures accurate computations for precise values.\n\nA float occupies 24 bytes of memory.\n\nBelow, we can find some examples of floats:\n",
      "metadata": {}
    },
    {
      "cell_type": "code",
      "source": "print(1.00000000005)  # A positive float\nprint(-85.6701)  # A negative float\n\nflt_pt = 1.23456789\nprint(flt_pt)\n",
      "metadata": {
        "trusted": true
      },
      "execution_count": 2,
      "outputs": [
        {
          "name": "stdout",
          "text": "1.00000000005\n-85.6701\n1.23456789\n",
          "output_type": "stream"
        }
      ]
    },
    {
      "cell_type": "markdown",
      "source": "## Complex Numbers\n\nPython also supports complex numbers, or numbers made up of a real and an imaginary part.\n\nJust like the print() statement is used to print values, complex() is used to create complex numbers.\n\nIt requires two values. The first one will be the real part of the complex number, while the second value will be the imaginary part.\n\nHere’s the template for making a complex number:\n\ncomplex(real, imaginary)",
      "metadata": {}
    },
    {
      "cell_type": "code",
      "source": "print(complex(10, 20))  # Represents the complex number (10 + 20j)\nprint(complex(2.5, -18.2))  # Represents the complex number (2.5 - 18.2j)\n\ncomplex_1 = complex(0, 2)\ncomplex_2 = complex(2, 0)\nprint(complex_1)\nprint(complex_2)\n",
      "metadata": {
        "trusted": true
      },
      "execution_count": 3,
      "outputs": [
        {
          "name": "stdout",
          "text": "(10+20j)\n(2.5-18.2j)\n2j\n(2+0j)\n",
          "output_type": "stream"
        }
      ]
    },
    {
      "cell_type": "code",
      "source": "my_string = \"This is MY string!\"\nprint(my_string[0:4]) # From the start till before the 4th index\nprint(my_string[1:7])\nprint(my_string[8:len(my_string)]) # From the 8th index till the end\n",
      "metadata": {
        "trusted": true
      },
      "execution_count": 4,
      "outputs": [
        {
          "name": "stdout",
          "text": "This\nhis is\nMY string!\n",
          "output_type": "stream"
        }
      ]
    }
  ]
}